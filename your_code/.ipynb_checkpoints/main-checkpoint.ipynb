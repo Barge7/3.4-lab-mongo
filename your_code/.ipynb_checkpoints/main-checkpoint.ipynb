{
 "cells": [
  {
   "cell_type": "markdown",
   "metadata": {},
   "source": [
    "# Advanced Querying Mongo"
   ]
  },
  {
   "cell_type": "markdown",
   "metadata": {},
   "source": [
    "Importing libraries and setting up connection"
   ]
  },
  {
   "cell_type": "code",
   "execution_count": 6,
   "metadata": {},
   "outputs": [
    {
     "name": "stdout",
     "output_type": "stream",
     "text": [
      "Requirement already satisfied: pymongo in c:\\users\\silsi\\anaconda3\\lib\\site-packages (4.3.2)\n",
      "Requirement already satisfied: dnspython<3.0.0,>=1.16.0 in c:\\users\\silsi\\anaconda3\\lib\\site-packages (from pymongo) (2.2.1)\n",
      "Note: you may need to restart the kernel to use updated packages.\n"
     ]
    }
   ],
   "source": [
    "%pip install pymongo\n",
    "from pymongo import MongoClient\n",
    "cursor = MongoClient(\"mongodb://localhost:27017\")"
   ]
  },
  {
   "cell_type": "code",
   "execution_count": 9,
   "metadata": {},
   "outputs": [],
   "source": [
    "db = cursor.companies\n",
    "colec = db.companies"
   ]
  },
  {
   "cell_type": "markdown",
   "metadata": {},
   "source": [
    "### 1. All the companies whose name match 'Babelgum'. Retrieve only their `name` field."
   ]
  },
  {
   "cell_type": "code",
   "execution_count": 10,
   "metadata": {},
   "outputs": [
    {
     "data": {
      "text/plain": [
       "[{'name': 'Babelgum'}]"
      ]
     },
     "execution_count": 10,
     "metadata": {},
     "output_type": "execute_result"
    }
   ],
   "source": [
    "query = {'name': 'Babelgum'}\n",
    "\n",
    "filtro = {'name': True, '_id': False}\n",
    "\n",
    "list(colec.find(query, filtro))"
   ]
  },
  {
   "cell_type": "markdown",
   "metadata": {},
   "source": [
    "### 2. All the companies that have more than 5000 employees. Limit the search to 20 companies and sort them by **number of employees**."
   ]
  },
  {
   "cell_type": "code",
   "execution_count": 19,
   "metadata": {},
   "outputs": [
    {
     "data": {
      "text/plain": [
       "[{'name': 'Nintendo', 'number_of_employees': 5080},\n",
       " {'name': 'Hexaware Technologies', 'number_of_employees': 5200},\n",
       " {'name': 'Facebook', 'number_of_employees': 5299},\n",
       " {'name': 'OpenText', 'number_of_employees': 5300},\n",
       " {'name': 'CPM Braxis', 'number_of_employees': 5400},\n",
       " {'name': 'LSI', 'number_of_employees': 5400},\n",
       " {'name': 'Microchip Technologies', 'number_of_employees': 5500},\n",
       " {'name': 'Mediaset', 'number_of_employees': 5729},\n",
       " {'name': 'Mindray Medical International', 'number_of_employees': 5763},\n",
       " {'name': 'Dentsu', 'number_of_employees': 6000},\n",
       " {'name': 'Atmel', 'number_of_employees': 6000},\n",
       " {'name': 'Tata Communications', 'number_of_employees': 6000},\n",
       " {'name': 'Baidu', 'number_of_employees': 6000},\n",
       " {'name': 'Acxiom', 'number_of_employees': 6200},\n",
       " {'name': 'Acxiom', 'number_of_employees': 6200},\n",
       " {'name': 'SRA International', 'number_of_employees': 6400},\n",
       " {'name': \"Moody's\", 'number_of_employees': 6800},\n",
       " {'name': 'ManTech', 'number_of_employees': 7000},\n",
       " {'name': 'Adobe Systems', 'number_of_employees': 7173},\n",
       " {'name': 'Broadcom', 'number_of_employees': 7400}]"
      ]
     },
     "execution_count": 19,
     "metadata": {},
     "output_type": "execute_result"
    }
   ],
   "source": [
    "query = {'number_of_employees': {'$gt' : 5000}}\n",
    "\n",
    "filtro = {'name': True, 'number_of_employees': True, '_id': False}\n",
    "\n",
    "list(colec.find(query, filtro).sort('number_of_employees', 1).limit(20))"
   ]
  },
  {
   "cell_type": "markdown",
   "metadata": {},
   "source": [
    "### 3. All the companies founded between 2000 and 2005, both years included. Retrieve only the `name` and `founded_year` fields."
   ]
  },
  {
   "cell_type": "code",
   "execution_count": 52,
   "metadata": {},
   "outputs": [
    {
     "data": {
      "text/plain": [
       "[{'name': 'Digg', 'ipo': None},\n",
       " {'name': 'Facebook',\n",
       "  'ipo': {'valuation_amount': 104000000000,\n",
       "   'valuation_currency_code': 'USD',\n",
       "   'pub_year': 2012,\n",
       "   'pub_month': 5,\n",
       "   'pub_day': 18,\n",
       "   'stock_symbol': 'NASDAQ:FB'}},\n",
       " {'name': 'StumbleUpon', 'ipo': None},\n",
       " {'name': 'Gizmoz', 'ipo': None},\n",
       " {'name': 'Plaxo', 'ipo': None},\n",
       " {'name': 'Technorati', 'ipo': None},\n",
       " {'name': 'AddThis', 'ipo': None},\n",
       " {'name': 'Veoh', 'ipo': None},\n",
       " {'name': 'Meetup', 'ipo': None},\n",
       " {'name': 'SmugMug', 'ipo': None}]"
      ]
     },
     "execution_count": 52,
     "metadata": {},
     "output_type": "execute_result"
    }
   ],
   "source": [
    "query = ({'$and':[{'founded_year': {'$gt' : 2000}},\n",
    "                  {'founded_year': {'$lt' : 2005}}]})\n",
    "\n",
    "filtro = {'name': True, 'founded_year': True, '_id': False}\n",
    "\n",
    "list(colec.find(query, filtro).limit(10))"
   ]
  },
  {
   "cell_type": "markdown",
   "metadata": {},
   "source": [
    "### 4. All the companies that had a Valuation Amount of more than 100.000.000 and have been founded before 2010. Retrieve only the `name` and `ipo` fields."
   ]
  },
  {
   "cell_type": "code",
   "execution_count": 45,
   "metadata": {},
   "outputs": [
    {
     "data": {
      "text/plain": [
       "[{'name': 'Salesforce',\n",
       "  'ipo': {'valuation_amount': 110000000,\n",
       "   'valuation_currency_code': 'USD',\n",
       "   'pub_year': 2004,\n",
       "   'pub_month': 7,\n",
       "   'pub_day': 2,\n",
       "   'stock_symbol': 'NYSE:CRM'}},\n",
       " {'name': 'Geeknet',\n",
       "  'ipo': {'valuation_amount': 134000000,\n",
       "   'valuation_currency_code': 'USD',\n",
       "   'pub_year': 2010,\n",
       "   'pub_month': 11,\n",
       "   'pub_day': 2,\n",
       "   'stock_symbol': 'GKNT'}},\n",
       " {'name': 'QuinStreet',\n",
       "  'ipo': {'valuation_amount': 140000000,\n",
       "   'valuation_currency_code': 'USD',\n",
       "   'pub_year': 2010,\n",
       "   'pub_month': 1,\n",
       "   'pub_day': 11,\n",
       "   'stock_symbol': 'NASDAQ:QNST'}},\n",
       " {'name': 'Tudou',\n",
       "  'ipo': {'valuation_amount': 174000000,\n",
       "   'valuation_currency_code': 'USD',\n",
       "   'pub_year': None,\n",
       "   'pub_month': None,\n",
       "   'pub_day': None,\n",
       "   'stock_symbol': 'NASDAQ:TUDO'}},\n",
       " {'name': 'KIT digital',\n",
       "  'ipo': {'valuation_amount': 235000000,\n",
       "   'valuation_currency_code': 'USD',\n",
       "   'pub_year': 2010,\n",
       "   'pub_month': 7,\n",
       "   'pub_day': 27,\n",
       "   'stock_symbol': 'KITD'}}]"
      ]
     },
     "execution_count": 45,
     "metadata": {},
     "output_type": "execute_result"
    }
   ],
   "source": [
    "query = ({'$and':[{'ipo.valuation_amount': {'$gt' : 100000000}},\n",
    "                  {'founded_year': {'$lt' : 2010}}]})\n",
    "\n",
    "filtro = {'name': True, 'ipo': True, '_id': False}\n",
    "\n",
    "list(colec.find(query, filtro).sort('ipo',1).limit(5))"
   ]
  },
  {
   "cell_type": "markdown",
   "metadata": {},
   "source": [
    "### 5. All the companies that have less than 1000 employees and have been founded before 2005. Order them by the number of employees and limit the search to 10 companies."
   ]
  },
  {
   "cell_type": "code",
   "execution_count": 47,
   "metadata": {},
   "outputs": [
    {
     "data": {
      "text/plain": [
       "[{'name': 'Infinera Corporation', 'number_of_employees': 974},\n",
       " {'name': 'NorthPoint Communications Group', 'number_of_employees': 948},\n",
       " {'name': '888 Holdings', 'number_of_employees': 931},\n",
       " {'name': 'Forrester Research', 'number_of_employees': 903},\n",
       " {'name': 'SonicWALL', 'number_of_employees': 900},\n",
       " {'name': 'Webmetrics', 'number_of_employees': 900},\n",
       " {'name': 'Cornerstone OnDemand', 'number_of_employees': 881},\n",
       " {'name': 'Mozilla', 'number_of_employees': 800},\n",
       " {'name': 'Buongiorno', 'number_of_employees': 800},\n",
       " {'name': 'Yelp', 'number_of_employees': 800}]"
      ]
     },
     "execution_count": 47,
     "metadata": {},
     "output_type": "execute_result"
    }
   ],
   "source": [
    "query = ({'$and':[{'number_of_employees': {'$lt' : 1000}},\n",
    "                  {'founded_year': {'$lt' : 2005}}]})\n",
    "\n",
    "filtro = {'name': True, 'number_of_employees': True, '_id': False}\n",
    "\n",
    "list(colec.find(query, filtro).sort('number_of_employees', -1).limit(10))"
   ]
  },
  {
   "cell_type": "markdown",
   "metadata": {},
   "source": [
    "### 6. All the companies that don't include the `partners` field."
   ]
  },
  {
   "cell_type": "code",
   "execution_count": 98,
   "metadata": {},
   "outputs": [
    {
     "data": {
      "text/plain": [
       "[{'_id': ObjectId('52cdef7c4bab8bd675297d8a'),\n",
       "  'name': 'Wetpaint',\n",
       "  'partners': []},\n",
       " {'_id': ObjectId('52cdef7c4bab8bd675297d8b'),\n",
       "  'name': 'AdventNet',\n",
       "  'partners': []},\n",
       " {'_id': ObjectId('52cdef7c4bab8bd675297d8c'), 'name': 'Zoho', 'partners': []},\n",
       " {'_id': ObjectId('52cdef7c4bab8bd675297d8d'), 'name': 'Digg', 'partners': []},\n",
       " {'_id': ObjectId('52cdef7c4bab8bd675297d8e'),\n",
       "  'name': 'Facebook',\n",
       "  'partners': []},\n",
       " {'_id': ObjectId('52cdef7c4bab8bd675297d8f'),\n",
       "  'name': 'Omnidrive',\n",
       "  'partners': []},\n",
       " {'_id': ObjectId('52cdef7c4bab8bd675297d90'),\n",
       "  'name': 'Postini',\n",
       "  'partners': []},\n",
       " {'_id': ObjectId('52cdef7c4bab8bd675297d91'), 'name': 'Geni', 'partners': []},\n",
       " {'_id': ObjectId('52cdef7c4bab8bd675297d92'),\n",
       "  'name': 'Flektor',\n",
       "  'partners': []},\n",
       " {'_id': ObjectId('52cdef7c4bab8bd675297d93'),\n",
       "  'name': 'Fox Interactive Media',\n",
       "  'partners': []}]"
      ]
     },
     "execution_count": 98,
     "metadata": {},
     "output_type": "execute_result"
    }
   ],
   "source": [
    "list(colec.find({'partners': {'$size':0}}, {'name':True, 'partners': True}).limit(10))\n"
   ]
  },
  {
   "cell_type": "markdown",
   "metadata": {},
   "source": [
    "### 7. All the companies that have a null type of value on the `category_code` field."
   ]
  },
  {
   "cell_type": "code",
   "execution_count": 57,
   "metadata": {},
   "outputs": [
    {
     "data": {
      "text/plain": [
       "[{'_id': ObjectId('52cdef7c4bab8bd6752980f6'),\n",
       "  'name': 'Collective',\n",
       "  'category_code': None},\n",
       " {'_id': ObjectId('52cdef7c4bab8bd675298225'),\n",
       "  'name': 'Snimmer',\n",
       "  'category_code': None},\n",
       " {'_id': ObjectId('52cdef7c4bab8bd675298226'),\n",
       "  'name': 'KoolIM',\n",
       "  'category_code': None},\n",
       " {'_id': ObjectId('52cdef7c4bab8bd675298261'),\n",
       "  'name': 'Level9 Media',\n",
       "  'category_code': None},\n",
       " {'_id': ObjectId('52cdef7c4bab8bd675298262'),\n",
       "  'name': 'VidKing',\n",
       "  'category_code': None},\n",
       " {'_id': ObjectId('52cdef7c4bab8bd67529826e'),\n",
       "  'name': 'Drigg',\n",
       "  'category_code': None},\n",
       " {'_id': ObjectId('52cdef7c4bab8bd675298276'),\n",
       "  'name': 'SpaceTime',\n",
       "  'category_code': None},\n",
       " {'_id': ObjectId('52cdef7c4bab8bd675298279'),\n",
       "  'name': 'Touch Clarity',\n",
       "  'category_code': None},\n",
       " {'_id': ObjectId('52cdef7c4bab8bd67529827a'),\n",
       "  'name': 'MMDAYS',\n",
       "  'category_code': None},\n",
       " {'_id': ObjectId('52cdef7c4bab8bd67529827b'),\n",
       "  'name': 'Inside Group',\n",
       "  'category_code': None}]"
      ]
     },
     "execution_count": 57,
     "metadata": {},
     "output_type": "execute_result"
    }
   ],
   "source": [
    "list(colec.find({'category_code': None}, {'name':True, 'category_code': True}).limit(10))"
   ]
  },
  {
   "cell_type": "markdown",
   "metadata": {},
   "source": [
    "### 8. All the companies that have at least 100 employees but less than 1000. Retrieve only the `name` and `number of employees` fields."
   ]
  },
  {
   "cell_type": "code",
   "execution_count": 58,
   "metadata": {},
   "outputs": [
    {
     "data": {
      "text/plain": [
       "[{'name': 'Datamonitor', 'number_of_employees': 984},\n",
       " {'name': 'Infinera Corporation', 'number_of_employees': 974},\n",
       " {'name': 'Box', 'number_of_employees': 950},\n",
       " {'name': 'NorthPoint Communications Group', 'number_of_employees': 948},\n",
       " {'name': '888 Holdings', 'number_of_employees': 931},\n",
       " {'name': 'Forrester Research', 'number_of_employees': 903},\n",
       " {'name': 'SonicWALL', 'number_of_employees': 900},\n",
       " {'name': 'Relax Solutions Pvt Ltd', 'number_of_employees': 900},\n",
       " {'name': 'Webmetrics', 'number_of_employees': 900},\n",
       " {'name': 'InMobi', 'number_of_employees': 900}]"
      ]
     },
     "execution_count": 58,
     "metadata": {},
     "output_type": "execute_result"
    }
   ],
   "source": [
    "query = ({'$and':[{'number_of_employees': {'$gte' : 100}},\n",
    "                  {'number_of_employees': {'$lt' : 1000}}]})\n",
    "\n",
    "filtro = {'name': True, 'number_of_employees': True, '_id': False}\n",
    "\n",
    "list(colec.find(query, filtro).sort('number_of_employees', -1).limit(10))"
   ]
  },
  {
   "cell_type": "markdown",
   "metadata": {},
   "source": [
    "### 9. Order all the companies by their IPO price in a descending order."
   ]
  },
  {
   "cell_type": "code",
   "execution_count": 62,
   "metadata": {},
   "outputs": [
    {
     "data": {
      "text/plain": [
       "[{'name': 'GREE',\n",
       "  'ipo': {'valuation_amount': 108960000000,\n",
       "   'valuation_currency_code': 'JPY',\n",
       "   'pub_year': 2008,\n",
       "   'pub_month': 12,\n",
       "   'pub_day': 17,\n",
       "   'stock_symbol': '3632'}},\n",
       " {'name': 'Facebook',\n",
       "  'ipo': {'valuation_amount': 104000000000,\n",
       "   'valuation_currency_code': 'USD',\n",
       "   'pub_year': 2012,\n",
       "   'pub_month': 5,\n",
       "   'pub_day': 18,\n",
       "   'stock_symbol': 'NASDAQ:FB'}},\n",
       " {'name': 'Amazon',\n",
       "  'ipo': {'valuation_amount': 100000000000,\n",
       "   'valuation_currency_code': 'USD',\n",
       "   'pub_year': 1997,\n",
       "   'pub_month': 5,\n",
       "   'pub_day': None,\n",
       "   'stock_symbol': 'NASDAQ:AMZN'}},\n",
       " {'name': 'Twitter',\n",
       "  'ipo': {'valuation_amount': 18100000000,\n",
       "   'valuation_currency_code': 'USD',\n",
       "   'pub_year': 2013,\n",
       "   'pub_month': 11,\n",
       "   'pub_day': 7,\n",
       "   'stock_symbol': 'NYSE:TWTR'}},\n",
       " {'name': 'Groupon',\n",
       "  'ipo': {'valuation_amount': 12800000000,\n",
       "   'valuation_currency_code': 'USD',\n",
       "   'pub_year': 2011,\n",
       "   'pub_month': 11,\n",
       "   'pub_day': 7,\n",
       "   'stock_symbol': 'NASDAQ:GRPN'}}]"
      ]
     },
     "execution_count": 62,
     "metadata": {},
     "output_type": "execute_result"
    }
   ],
   "source": [
    "query = {}\n",
    "\n",
    "filtro = {'name': True, 'ipo': True, '_id': False}\n",
    "\n",
    "list(colec.find(query, filtro).sort('ipo',-1).limit(5))"
   ]
  },
  {
   "cell_type": "markdown",
   "metadata": {},
   "source": [
    "### 10. Retrieve the 10 companies with more employees, order by the `number of employees`"
   ]
  },
  {
   "cell_type": "code",
   "execution_count": 64,
   "metadata": {},
   "outputs": [
    {
     "data": {
      "text/plain": [
       "[{'name': 'Siemens', 'number_of_employees': 405000},\n",
       " {'name': 'IBM', 'number_of_employees': 388000},\n",
       " {'name': 'Toyota', 'number_of_employees': 320000},\n",
       " {'name': 'PayPal', 'number_of_employees': 300000},\n",
       " {'name': 'Nippon Telegraph and Telephone Corporation',\n",
       "  'number_of_employees': 227000},\n",
       " {'name': 'Samsung Electronics', 'number_of_employees': 221726},\n",
       " {'name': 'Accenture', 'number_of_employees': 205000},\n",
       " {'name': 'Tata Consultancy Services', 'number_of_employees': 200300},\n",
       " {'name': 'Flextronics International', 'number_of_employees': 200000},\n",
       " {'name': 'Safeway', 'number_of_employees': 186000}]"
      ]
     },
     "execution_count": 64,
     "metadata": {},
     "output_type": "execute_result"
    }
   ],
   "source": [
    "query = {}\n",
    "\n",
    "filtro = {'name': True, 'number_of_employees': True, '_id': False}\n",
    "\n",
    "list(colec.find(query, filtro).sort('number_of_employees', -1).limit(10))"
   ]
  },
  {
   "cell_type": "markdown",
   "metadata": {},
   "source": [
    "### 11. All the companies founded on the second semester of the year. Limit your search to 1000 companies."
   ]
  },
  {
   "cell_type": "code",
   "execution_count": 70,
   "metadata": {},
   "outputs": [
    {
     "data": {
      "text/plain": [
       "[{'name': 'PayPal', 'founded_month': 12},\n",
       " {'name': 'ExxonMobil', 'founded_month': 11},\n",
       " {'name': 'Google', 'founded_month': 9},\n",
       " {'name': 'kalimatapla', 'founded_month': 8},\n",
       " {'name': 'BBC', 'founded_month': 7},\n",
       " {'name': 'The Walt Disney Company', 'founded_month': 10},\n",
       " {'name': 'eBay', 'founded_month': 9},\n",
       " {'name': 'Groupon', 'founded_month': 11},\n",
       " {'name': 'Los Angeles Times Media Group', 'founded_month': 12},\n",
       " {'name': 'Adobe Systems', 'founded_month': 12}]"
      ]
     },
     "execution_count": 70,
     "metadata": {},
     "output_type": "execute_result"
    }
   ],
   "source": [
    "query= {'founded_month': {'$gte': 7}}                \n",
    "\n",
    "filtro = {'name': True, 'founded_month': True, '_id': False}\n",
    "\n",
    "list(colec.find(query, filtro).sort('number_of_employees', -1).limit(10)) \n",
    "#limit(10) porque 1000 son muchas "
   ]
  },
  {
   "cell_type": "markdown",
   "metadata": {},
   "source": [
    "### 12. All the companies founded before 2000 that have an acquisition amount of more than 10.000.00"
   ]
  },
  {
   "cell_type": "code",
   "execution_count": 83,
   "metadata": {},
   "outputs": [
    {
     "data": {
      "text/plain": [
       "[{'name': 'Alibaba',\n",
       "  'founded_year': 1999,\n",
       "  'acquisition': {'price_amount': 1000000000}},\n",
       " {'name': 'Snapfish',\n",
       "  'founded_year': 1999,\n",
       "  'acquisition': {'price_amount': 300000000}},\n",
       " {'name': 'MIVA',\n",
       "  'founded_year': 1999,\n",
       "  'acquisition': {'price_amount': 11600000}},\n",
       " {'name': 'Zappos',\n",
       "  'founded_year': 1999,\n",
       "  'acquisition': {'price_amount': 1200000000}},\n",
       " {'name': 'Neopets',\n",
       "  'founded_year': 1999,\n",
       "  'acquisition': {'price_amount': 160000000}},\n",
       " {'name': 'Postini',\n",
       "  'founded_year': 1999,\n",
       "  'acquisition': {'price_amount': 625000000}},\n",
       " {'name': 'Kaboose',\n",
       "  'founded_year': 1999,\n",
       "  'acquisition': {'price_amount': 18400000}},\n",
       " {'name': 'PriceGrabber',\n",
       "  'founded_year': 1999,\n",
       "  'acquisition': {'price_amount': 485000000}},\n",
       " {'name': 'SideStep',\n",
       "  'founded_year': 1999,\n",
       "  'acquisition': {'price_amount': 180000000}},\n",
       " {'name': 'Recipezaar',\n",
       "  'founded_year': 1999,\n",
       "  'acquisition': {'price_amount': 25000000}}]"
      ]
     },
     "execution_count": 83,
     "metadata": {},
     "output_type": "execute_result"
    }
   ],
   "source": [
    "query = ({'$and':[{'founded_year': {'$lt' : 2000}},\n",
    "                  {'acquisition.price_amount': {'$gt' : 10000000}}]})\n",
    "\n",
    "filtro = {'name': True, 'founded_year': True, 'acquisition.price_amount': True, '_id': False}\n",
    "\n",
    "list(colec.find(query, filtro).sort('founded_year', -1).limit(10))"
   ]
  },
  {
   "cell_type": "markdown",
   "metadata": {},
   "source": [
    "### 13. All the companies that have been acquired after 2010, order by the acquisition amount, and retrieve only their `name` and `acquisition` field."
   ]
  },
  {
   "cell_type": "code",
   "execution_count": 80,
   "metadata": {},
   "outputs": [
    {
     "data": {
      "text/plain": [
       "[{'name': 'Magento',\n",
       "  'acquisition': {'price_amount': 180000000,\n",
       "   'price_currency_code': 'USD',\n",
       "   'term_code': None,\n",
       "   'source_url': 'http://techcrunch.com/2011/06/23/ebay-acquired-magento-for-over-180-million-but-not-everyone-is-smiling/',\n",
       "   'source_description': 'eBay Acquired Magento For Over $180 Million â€“ But Not Everyone Is Smiling',\n",
       "   'acquired_year': 2011,\n",
       "   'acquired_month': 6,\n",
       "   'acquired_day': 6,\n",
       "   'acquiring_company': {'name': 'eBay', 'permalink': 'ebay'}}}]"
      ]
     },
     "execution_count": 80,
     "metadata": {},
     "output_type": "execute_result"
    }
   ],
   "source": [
    "query = ({'$and':[{'founded_year': {'$gte' : 2010}},\n",
    "                  {'acquisition.price_amount': {'$gt' : 10000000}}]})\n",
    "\n",
    "filtro = {'name': True, 'acquisition': True, '_id': False}\n",
    "\n",
    "list(colec.find(query, filtro).sort('acquisition.price_amount', -1).limit(10))"
   ]
  },
  {
   "cell_type": "markdown",
   "metadata": {},
   "source": [
    "### 14. Order the companies by their `founded year`, retrieving only their `name` and `founded year`."
   ]
  },
  {
   "cell_type": "code",
   "execution_count": 85,
   "metadata": {},
   "outputs": [
    {
     "data": {
      "text/plain": [
       "[{'name': 'Wamba', 'founded_year': 2013},\n",
       " {'name': 'Gimigo', 'founded_year': 2013},\n",
       " {'name': 'Clowdy', 'founded_year': 2013},\n",
       " {'name': 'Fixya', 'founded_year': 2013},\n",
       " {'name': 'Fluc', 'founded_year': 2013},\n",
       " {'name': 'SEOGroup', 'founded_year': 2013},\n",
       " {'name': 'Pikk', 'founded_year': 2013},\n",
       " {'name': 'WhosCall', 'founded_year': 2013},\n",
       " {'name': 'iBazar', 'founded_year': 2013},\n",
       " {'name': 'Advaliant', 'founded_year': 2013}]"
      ]
     },
     "execution_count": 85,
     "metadata": {},
     "output_type": "execute_result"
    }
   ],
   "source": [
    "query = {}\n",
    "\n",
    "filtro = {'name': True, 'founded_year': True, '_id': False}\n",
    "\n",
    "list(colec.find(query, filtro).sort('founded_year', -1).limit(10))"
   ]
  },
  {
   "cell_type": "markdown",
   "metadata": {},
   "source": [
    "### 15. All the companies that have been founded on the first seven days of the month, including the seventh. Sort them by their `acquisition price` in a descending order. Limit the search to 10 documents."
   ]
  },
  {
   "cell_type": "code",
   "execution_count": 86,
   "metadata": {},
   "outputs": [
    {
     "data": {
      "text/plain": [
       "[{'name': 'Netscape', 'acquisition': {'price_amount': 4200000000}},\n",
       " {'name': 'PayPal', 'acquisition': {'price_amount': 1500000000}},\n",
       " {'name': 'Zappos', 'acquisition': {'price_amount': 1200000000}},\n",
       " {'name': 'Alibaba', 'acquisition': {'price_amount': 1000000000}},\n",
       " {'name': 'Postini', 'acquisition': {'price_amount': 625000000}},\n",
       " {'name': 'Danger', 'acquisition': {'price_amount': 500000000}},\n",
       " {'name': 'Clearwell Systems', 'acquisition': {'price_amount': 410000000}},\n",
       " {'name': 'PrimeSense', 'acquisition': {'price_amount': 345000000}},\n",
       " {'name': 'Amobee', 'acquisition': {'price_amount': 321000000}},\n",
       " {'name': 'BlueLithium', 'acquisition': {'price_amount': 300000000}}]"
      ]
     },
     "execution_count": 86,
     "metadata": {},
     "output_type": "execute_result"
    }
   ],
   "source": [
    "query = {'founded_day': {'$lte' : 7}}\n",
    "                 \n",
    "filtro = {'name': True, 'acquisition.price_amount': True, '_id': False}\n",
    "\n",
    "list(colec.find(query, filtro).sort('acquisition', -1).limit(10))"
   ]
  },
  {
   "cell_type": "markdown",
   "metadata": {},
   "source": [
    "### 16. All the companies on the 'web' `category` that have more than 4000 employees. Sort them by the amount of employees in ascending order."
   ]
  },
  {
   "cell_type": "code",
   "execution_count": 92,
   "metadata": {},
   "outputs": [
    {
     "data": {
      "text/plain": [
       "[{'name': 'Expedia', 'category_code': 'web'},\n",
       " {'name': 'AOL', 'category_code': 'web'},\n",
       " {'name': 'Webkinz', 'category_code': 'web'},\n",
       " {'name': 'Rakuten', 'category_code': 'web'},\n",
       " {'name': 'Los Angeles Times Media Group', 'category_code': 'web'},\n",
       " {'name': 'Groupon', 'category_code': 'web'},\n",
       " {'name': 'Yahoo!', 'category_code': 'web'},\n",
       " {'name': 'eBay', 'category_code': 'web'},\n",
       " {'name': 'Experian', 'category_code': 'web'}]"
      ]
     },
     "execution_count": 92,
     "metadata": {},
     "output_type": "execute_result"
    }
   ],
   "source": [
    "query = ({'$and':[{'category_code': 'web'}, {'number_of_employees': {'$gt': 4000}}]})\n",
    "                 \n",
    "filtro = {'name': True, 'category_code': True, '_id': False}\n",
    "\n",
    "list(colec.find(query, filtro).sort('number_of_employees', 1).limit(10))"
   ]
  },
  {
   "cell_type": "markdown",
   "metadata": {},
   "source": [
    "### 17. All the companies whose acquisition amount is more than 10.000.000, and currency is 'EUR'."
   ]
  },
  {
   "cell_type": "code",
   "execution_count": 109,
   "metadata": {},
   "outputs": [
    {
     "data": {
      "text/plain": [
       "[{'name': 'Wayfinder',\n",
       "  'acquisition': {'price_amount': 24000000,\n",
       "   'price_currency_code': 'EUR',\n",
       "   'term_code': None,\n",
       "   'source_url': 'http://www.techcrunch.com/2008/12/08/vodafone-acquires-swedens-wayfinder-for-e24-million/',\n",
       "   'source_description': \"Vodafone Acquires Sweden's WayFinder For â‚¬24 Million\",\n",
       "   'acquired_year': 2008,\n",
       "   'acquired_month': 12,\n",
       "   'acquired_day': 8,\n",
       "   'acquiring_company': {'name': 'Vodafone', 'permalink': 'vodafone'}}},\n",
       " {'name': 'ZYB',\n",
       "  'acquisition': {'price_amount': 31500000,\n",
       "   'price_currency_code': 'EUR',\n",
       "   'term_code': 'cash',\n",
       "   'source_url': 'http://www.techcrunch.com/2008/05/16/danish-mobile-social-network-zyb-acquired-by-vodafone-for-e315-million/',\n",
       "   'source_description': 'Danish Network ZYB Acquired By Vodafone For â‚¬31.5 million',\n",
       "   'acquired_year': 2008,\n",
       "   'acquired_month': 5,\n",
       "   'acquired_day': 16,\n",
       "   'acquiring_company': {'name': 'Vodafone', 'permalink': 'vodafone'}}},\n",
       " {'name': 'Greenfield Online',\n",
       "  'acquisition': {'price_amount': 40000000,\n",
       "   'price_currency_code': 'EUR',\n",
       "   'term_code': None,\n",
       "   'source_url': 'http://www.research-live.com/news/m-and-a/toluna-buys-greenfield-online-survey-business-for-$40m/4000346.article',\n",
       "   'source_description': 'Toluna buys Greenfield Online survey business for $40m',\n",
       "   'acquired_year': 2009,\n",
       "   'acquired_month': 6,\n",
       "   'acquired_day': 26,\n",
       "   'acquiring_company': {'name': 'Toluna', 'permalink': 'toluna'}}},\n",
       " {'name': 'BioMed Central',\n",
       "  'acquisition': {'price_amount': 43400000,\n",
       "   'price_currency_code': 'EUR',\n",
       "   'term_code': None,\n",
       "   'source_url': 'http://www.springer-sbm.com/index.php?id=291&backPID=131&L=0&tx_tnc_news=4970&cHash=56b1d882b2',\n",
       "   'source_description': 'Springer to acquire BioMed Central Group ',\n",
       "   'acquired_year': 2008,\n",
       "   'acquired_month': 10,\n",
       "   'acquired_day': 6,\n",
       "   'acquiring_company': {'name': 'Springer', 'permalink': 'springer'}}},\n",
       " {'name': 'Tuenti Technologies',\n",
       "  'acquisition': {'price_amount': 70000000,\n",
       "   'price_currency_code': 'EUR',\n",
       "   'term_code': 'cash',\n",
       "   'source_url': 'http://financial.tmcnet.com/mergers-acquisitions/news/2010/08/05/4940696.htm',\n",
       "   'source_description': \"'Telefonica confirms Tuenti stake acquisition'\",\n",
       "   'acquired_year': 1974,\n",
       "   'acquired_month': 7,\n",
       "   'acquired_day': 7,\n",
       "   'acquiring_company': {'name': 'Telefonica', 'permalink': 'telefonica'}}}]"
      ]
     },
     "execution_count": 109,
     "metadata": {},
     "output_type": "execute_result"
    }
   ],
   "source": [
    "query = ({'$and':[{'acquisition.price_currency_code': 'EUR'},\n",
    "                  {'acquisition.price_amount': {'$gt' : 10000000}}]})\n",
    "\n",
    "filtro = {'name': True, 'acquisition': True, '_id': False}\n",
    "\n",
    "list(colec.find(query, filtro).sort('acquisition.price_amount', 1).limit(5))"
   ]
  },
  {
   "cell_type": "markdown",
   "metadata": {},
   "source": [
    "### 18. All the companies that have been acquired on the first trimester of the year. Limit the search to 10 companies, and retrieve only their `name` and `acquisition` fields."
   ]
  },
  {
   "cell_type": "code",
   "execution_count": 108,
   "metadata": {},
   "outputs": [
    {
     "data": {
      "text/plain": [
       "[{'name': 'zebraspot design', 'acquisition': None},\n",
       " {'name': 'zanox', 'acquisition': None},\n",
       " {'name': 'youserbase', 'acquisition': None},\n",
       " {'name': 'writewith', 'acquisition': None},\n",
       " {'name': 'wikiHow', 'acquisition': None},\n",
       " {'name': 'wheresbest', 'acquisition': None},\n",
       " {'name': 'webwork', 'acquisition': None},\n",
       " {'name': 'web seo masters', 'acquisition': None},\n",
       " {'name': 'weSRCH', 'acquisition': None},\n",
       " {'name': 'watercompare', 'acquisition': None}]"
      ]
     },
     "execution_count": 108,
     "metadata": {},
     "output_type": "execute_result"
    }
   ],
   "source": [
    "query= {'founded_month': {'$lte': 4}}                \n",
    "\n",
    "filtro = {'name': True, 'acquisition': True, '_id': False}\n",
    "\n",
    "list(colec.find(query, filtro).sort('name', -1).limit(10)) "
   ]
  },
  {
   "cell_type": "markdown",
   "metadata": {},
   "source": [
    "# Bonus\n",
    "### 19. All the companies that have been founded between 2000 and 2010, but have not been acquired before 2011."
   ]
  },
  {
   "cell_type": "code",
   "execution_count": 117,
   "metadata": {},
   "outputs": [
    {
     "data": {
      "text/plain": [
       "[{'name': 'SuccessFactors',\n",
       "  'founded_year': 2001,\n",
       "  'acquisition': {'price_amount': 3400000000,\n",
       "   'price_currency_code': 'USD',\n",
       "   'term_code': None,\n",
       "   'source_url': 'http://techcrunch.com/2012/02/22/successfactors-sap/',\n",
       "   'source_description': 'After Closing $3.4B Acquisition Of SuccessFactors, SAP Pushes Human Capital Management In The Cloud',\n",
       "   'acquired_year': 2012,\n",
       "   'acquired_month': 2,\n",
       "   'acquired_day': 22,\n",
       "   'acquiring_company': {'name': 'SAP', 'permalink': 'sap'}}},\n",
       " {'name': 'Sourcefire',\n",
       "  'founded_year': 2001,\n",
       "  'acquisition': {'price_amount': 2700000000,\n",
       "   'price_currency_code': 'USD',\n",
       "   'term_code': None,\n",
       "   'source_url': 'http://techcrunch.com/2013/07/23/cisco-acquires-cybersecurity-company-sourcefire-for-2-7b/',\n",
       "   'source_description': 'Cisco Acquires Cybersecurity Company Sourcefire For $2.7B',\n",
       "   'acquired_year': 2013,\n",
       "   'acquired_month': 7,\n",
       "   'acquired_day': 23,\n",
       "   'acquiring_company': {'name': 'Cisco', 'permalink': 'cisco'}}},\n",
       " {'name': 'ExactTarget',\n",
       "  'founded_year': 2000,\n",
       "  'acquisition': {'price_amount': 2500000000,\n",
       "   'price_currency_code': 'USD',\n",
       "   'term_code': None,\n",
       "   'source_url': 'http://techcrunch.com/2013/06/04/with-exacttarget-acquisition-salesforce-com-has-spent-close-to-3-5-billion-to-get-into-the-chief-marketing-officers-suite/',\n",
       "   'source_description': 'With ExactTarget Acquisition, Salesforce.com Has Spent Close To $3.5 Billion To Get Into The Chief Marketing Officer’s Suite',\n",
       "   'acquired_year': 2013,\n",
       "   'acquired_month': 6,\n",
       "   'acquired_day': 4,\n",
       "   'acquiring_company': {'name': 'Salesforce', 'permalink': 'salesforce'}}},\n",
       " {'name': 'PopCap Games',\n",
       "  'founded_year': 2000,\n",
       "  'acquisition': {'price_amount': 1300000000,\n",
       "   'price_currency_code': 'USD',\n",
       "   'term_code': 'cash_and_stock',\n",
       "   'source_url': 'http://techcrunch.com/2011/07/12/confirmed-ea-buys-popcap-games-for-750-million-plus-earn-out/',\n",
       "   'source_description': 'EA Buys PopCap Games For As Much As $1.3B',\n",
       "   'acquired_year': 2011,\n",
       "   'acquired_month': 7,\n",
       "   'acquired_day': 12,\n",
       "   'acquiring_company': {'name': 'Electronic Arts',\n",
       "    'permalink': 'electronicarts'}}},\n",
       " {'name': 'Yammer',\n",
       "  'founded_year': 2008,\n",
       "  'acquisition': {'price_amount': 1200000000,\n",
       "   'price_currency_code': 'USD',\n",
       "   'term_code': 'cash',\n",
       "   'source_url': 'http://techcrunch.com/2012/06/25/its-official-microsoft-confirms-it-has-acquired-yammer-for-1-2-billion-in-cash/',\n",
       "   'source_description': 'With $1.2 Billion Yammer Buy, Microsoft’s Social Enterprise Strategy Takes Shape',\n",
       "   'acquired_year': 2012,\n",
       "   'acquired_month': 6,\n",
       "   'acquired_day': 25,\n",
       "   'acquiring_company': {'name': 'Microsoft', 'permalink': 'microsoft'}}}]"
      ]
     },
     "execution_count": 117,
     "metadata": {},
     "output_type": "execute_result"
    }
   ],
   "source": [
    "query = ({'$and':[{'founded_year': {'$gte' : 2000}},\n",
    "                  {'founded_year': {'$lte' : 2010}},\n",
    "                  {'acquisition.acquired_year': {'$gte': 2011}}]})\n",
    "\n",
    "filtro = {'name': True, 'acquisition': True, 'founded_year': True, '_id': False}\n",
    "\n",
    "list(colec.find(query, filtro).sort('acquisition.price_amount', -1).limit(5))"
   ]
  },
  {
   "cell_type": "markdown",
   "metadata": {},
   "source": [
    "### 20. All the companies that have been 'deadpooled' after the third year."
   ]
  },
  {
   "cell_type": "code",
   "execution_count": 122,
   "metadata": {},
   "outputs": [
    {
     "data": {
      "text/plain": [
       "[{'name': 'Ptch', 'deadpooled_year': 2014},\n",
       " {'name': 'mTraks', 'deadpooled_year': 2013},\n",
       " {'name': 'Thoof', 'deadpooled_year': 2013},\n",
       " {'name': 'RampedMedia', 'deadpooled_year': 2013},\n",
       " {'name': 'Stickam', 'deadpooled_year': 2013},\n",
       " {'name': 'Frazr', 'deadpooled_year': 2013},\n",
       " {'name': 'Nirvanix', 'deadpooled_year': 2013},\n",
       " {'name': 'Orgoo', 'deadpooled_year': 2013},\n",
       " {'name': 'Nemedia', 'deadpooled_year': 2013},\n",
       " {'name': 'Multiply', 'deadpooled_year': 2013}]"
      ]
     },
     "execution_count": 122,
     "metadata": {},
     "output_type": "execute_result"
    }
   ],
   "source": [
    "query= {'deadpooled_year': {'$gt': 3}}                \n",
    "\n",
    "filtro = {'name': True, 'deadpooled_year': True, '_id': False}\n",
    "\n",
    "list(colec.find(query, filtro).sort('deadpooled_year', -1).limit(10)) "
   ]
  }
 ],
 "metadata": {
  "kernelspec": {
   "display_name": "Python 3 (ipykernel)",
   "language": "python",
   "name": "python3"
  },
  "language_info": {
   "codemirror_mode": {
    "name": "ipython",
    "version": 3
   },
   "file_extension": ".py",
   "mimetype": "text/x-python",
   "name": "python",
   "nbconvert_exporter": "python",
   "pygments_lexer": "ipython3",
   "version": "3.9.12"
  }
 },
 "nbformat": 4,
 "nbformat_minor": 2
}
